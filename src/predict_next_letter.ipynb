{
 "cells": [
  {
   "cell_type": "markdown",
   "metadata": {},
   "source": [
    "### This is a jupyter notebook that predicts the next character based on previous characters of a word. It can also intelligently predict if we know the character we are going to predict is the last character of any given word.\n",
    "\n",
    "### We create a trie of all words in document which is effectively a nested dictionary, search through the tries using given letters of a word and predict the next letter based on maximum frequency of the letter"
   ]
  },
  {
   "cell_type": "code",
   "execution_count": 1,
   "metadata": {
    "collapsed": true
   },
   "outputs": [],
   "source": [
    "#FILE = \"../data/words.txt\"                  # ~90%\n",
    "#FILE = \"../data/hp_sorcerers_stone.txt\"     # 80%\n",
    "#FILE = \"../data/pride_and_prejudice.txt\"    # 83.9%\n",
    "FILE = \"../data/ptb.train.txt\"              # >86%"
   ]
  },
  {
   "cell_type": "code",
   "execution_count": 2,
   "metadata": {
    "collapsed": true
   },
   "outputs": [],
   "source": [
    "# Built and tested on python2\n",
    "import numpy as np\n",
    "from random import randint\n",
    "from sklearn.model_selection import train_test_split\n",
    "from tqdm import tqdm"
   ]
  },
  {
   "cell_type": "markdown",
   "metadata": {},
   "source": [
    "Functions for working with tries and generating predictions:"
   ]
  },
  {
   "cell_type": "code",
   "execution_count": 3,
   "metadata": {
    "collapsed": true
   },
   "outputs": [],
   "source": [
    "_first = '!@#$%^&*()'      # String to decide the first/last character of word in trie\n",
    "_end   = '!@#$%^&*()'\n",
    "_count = 'count'\n",
    "\n",
    "# Takes in list of words and returns a trie which is a nested dictionary of lowercase letters\n",
    "def make_trie(words):\n",
    "    root = dict()\n",
    "    for word in tqdm(words):\n",
    "        current_dict = root\n",
    "        current_dict[_first] = 'first'\n",
    "        current_dict[_count] = current_dict.setdefault(_count, 0) + 1\n",
    "        \n",
    "        for letter in word.lower():\n",
    "            # in dict.setdefault:\n",
    "            #   if (key, value) pair present: returns the value (which is dictionary)\n",
    "            #   else: sets dict[key]=default and returns the value (i.e default) (which is dictionary)\n",
    "            # making current_dict point to value of key of dictionary\n",
    "            current_dict = current_dict.setdefault(letter, {})\n",
    "            current_dict[_count] = current_dict.setdefault(_count, 0) + 1\n",
    "        current_dict[_end] = 'last'\n",
    "    return root\n",
    " \n",
    "# Takes in trie and word and says if the word is present or not\n",
    "def in_trie(trie, word):\n",
    "    current_dict = trie\n",
    "    for letter in word.lower():\n",
    "        if letter not in current_dict:\n",
    "            return False\n",
    "        current_dict = current_dict[letter]\n",
    "    if _end not in current_dict:\n",
    "        return False\n",
    "    return True\n",
    "\n",
    "# Takes in trie and word and inserts the word in trie if not present\n",
    "def insert_word(trie, word):\n",
    "    current_dict = trie\n",
    "    current_dict[_count] = current_dict.setdefault(_count, 0) + 1\n",
    "    for letter in word.lower():\n",
    "        current_dict = current_dict.setdefault(letter, {})\n",
    "        current_dict[_count] = current_dict.setdefault(_count, 0) + 1\n",
    "    current_dict[_end] = 'last'\n",
    "    \n",
    "# Takes in trie and word and gives its count in dictionary\n",
    "def get_count(trie, word):\n",
    "    current_dict = trie\n",
    "    for letter in word.lower():\n",
    "        if letter not in current_dict:\n",
    "            return 0\n",
    "        current_dict = current_dict[letter]\n",
    "    return current_dict[_count]\n",
    "\n",
    "# For a given word, predicts [next character, confidence] as per nested dictionary\n",
    "# If last_character is set to True, it returns a letter only if next letter is last letter of any word in dictionary\n",
    "def predict_next_letter(trie, word, last_character):\n",
    "    current_dict = trie\n",
    "    \n",
    "    # Iterate over given letters\n",
    "    for letter in word.lower():\n",
    "        if letter not in current_dict:\n",
    "            return [None, None]\n",
    "        current_dict = current_dict[letter]\n",
    "    \n",
    "    # Determine count for all child dictionaries\n",
    "    max_count   = 0\n",
    "    total_count = 0\n",
    "    prediction_list = []\n",
    "    for letter, child_dict in current_dict.iteritems():\n",
    "        if type(child_dict) is dict:\n",
    "            if last_character and _end not in child_dict:\n",
    "                continue\n",
    "            \n",
    "            total_count = total_count + child_dict[_count]\n",
    "            if max_count < child_dict[_count]:\n",
    "                max_count = child_dict[_count]\n",
    "                prediction_list = [letter]\n",
    "            elif max_count == child_dict[_count]:\n",
    "                prediction_list.append(letter)\n",
    "    \n",
    "    if len(prediction_list) == 0:    # If no letter found, check if it is the last letter of a word\n",
    "        if not last_character and _end in current_dict:\n",
    "            result = [' ', 1.0]\n",
    "        else:\n",
    "            result = [None, None]\n",
    "    elif len(prediction_list) == 1:\n",
    "        result = [prediction_list[0], (1.0 * max_count / total_count)]\n",
    "    else:                            # If more than 1 letter have same maxm frequency, choose any one letter at random\n",
    "        idx = randint(0, len(prediction_list)-1)\n",
    "        result = [prediction_list[idx], (1.0 * max_count / total_count)]\n",
    "\n",
    "    return result\n",
    "\n",
    "# Evaluate Predictions\n",
    "def evaluate_predictions(trie, x_test_list, y_test_list, last_character, guess, log):\n",
    "    correct_prediction = 0;\n",
    "    prediction_list = []\n",
    "    confidence_list = []\n",
    "    \n",
    "    for i in tqdm(range(len(x_test_list))):\n",
    "        word = x_test_list[i]\n",
    "        [predicted_letter, confidence] = predict_next_letter(trie, word, last_character=last_character)\n",
    "        \n",
    "        # Normally we should leave it alone, but traditional ML algos will make a guess\n",
    "        if guess and predicted_letter is None:\n",
    "            idx = randint(0, 25)\n",
    "            predicted_letter = chr(ord('a') + idx)\n",
    "        \n",
    "        if predicted_letter is not None and predicted_letter == y_test_list[i].lower():\n",
    "            correct_prediction = correct_prediction + 1\n",
    "        \n",
    "        if log:\n",
    "            prediction_list.append(predicted_letter)\n",
    "            confidence_list.append(confidence)\n",
    "    \n",
    "    accuracy = correct_prediction * 1.0 / len(x_test_list)\n",
    "    return [accuracy, prediction_list, confidence_list]"
   ]
  },
  {
   "cell_type": "markdown",
   "metadata": {},
   "source": [
    "Functions for file I/O and data handling:"
   ]
  },
  {
   "cell_type": "code",
   "execution_count": 4,
   "metadata": {
    "collapsed": true
   },
   "outputs": [],
   "source": [
    "# Take filename as input and returns np list of words\n",
    "def read_text_to_words(file):\n",
    "    words_list = []\n",
    "    with open(file) as f:\n",
    "        for line in tqdm(f):\n",
    "            for word in line.split():\n",
    "                words_list.append(word)\n",
    "    return words_list\n",
    "\n",
    "# Take word_list and return train and test set like scikit\n",
    "def get_train_test_set(word_list, test_size, random_state):\n",
    "    X = [word[:-1] for word in word_list]\n",
    "    y = [word[-1] for word in word_list]\n",
    "    if random_state is None:\n",
    "        return train_test_split(X, y, test_size=test_size)\n",
    "    else:\n",
    "        return train_test_split(X, y, test_size=test_size, random_state=random_state)\n",
    "\n",
    "# Rejoining training data and labels to feed to the trie\n",
    "def prepare_train_data(x_train):\n",
    "    train = x_train[:]\n",
    "    for t, y in zip(train, y_train):\n",
    "        yield ''.join([t, y])\n",
    "\n"
   ]
  },
  {
   "cell_type": "code",
   "execution_count": null,
   "metadata": {
    "collapsed": true
   },
   "outputs": [],
   "source": []
  },
  {
   "cell_type": "markdown",
   "metadata": {},
   "source": [
    "##### Test script starts here:"
   ]
  },
  {
   "cell_type": "code",
   "execution_count": 5,
   "metadata": {},
   "outputs": [
    {
     "name": "stderr",
     "output_type": "stream",
     "text": [
      "42068it [00:00, 94980.68it/s]\n"
     ]
    }
   ],
   "source": [
    "WORD_LIST = read_text_to_words(FILE)"
   ]
  },
  {
   "cell_type": "code",
   "execution_count": 6,
   "metadata": {},
   "outputs": [
    {
     "name": "stdout",
     "output_type": "stream",
     "text": [
      "Generate train-test split: done\n"
     ]
    }
   ],
   "source": [
    "# you can change test_size and random_state here\n",
    "\n",
    "[X_train, X_test, y_train, y_test] = get_train_test_set(WORD_LIST, test_size=0.25, random_state=None)\n",
    "\n",
    "print('Generate train-test split: done')"
   ]
  },
  {
   "cell_type": "code",
   "execution_count": 7,
   "metadata": {},
   "outputs": [
    {
     "name": "stdout",
     "output_type": "stream",
     "text": [
      "Prepare train data for trie: done\n"
     ]
    }
   ],
   "source": [
    "train_data = list(prepare_train_data(X_train))\n",
    "\n",
    "print('Prepare train data for trie: done')"
   ]
  },
  {
   "cell_type": "code",
   "execution_count": 8,
   "metadata": {},
   "outputs": [
    {
     "name": "stderr",
     "output_type": "stream",
     "text": [
      "100%|██████████| 887521/887521 [00:05<00:00, 158546.65it/s]\n"
     ]
    }
   ],
   "source": [
    "# Build the trie\n",
    "TRIE = make_trie(WORD_LIST)"
   ]
  },
  {
   "cell_type": "code",
   "execution_count": 9,
   "metadata": {},
   "outputs": [
    {
     "name": "stderr",
     "output_type": "stream",
     "text": [
      "100%|██████████| 221881/221881 [00:03<00:00, 62116.22it/s]\n",
      "100%|██████████| 221881/221881 [00:03<00:00, 60868.93it/s]"
     ]
    },
    {
     "name": "stdout",
     "output_type": "stream",
     "text": [
      "Train accuracy w/o last_character knowledge: 76.5293107567%\n",
      "Test accuracy w/o last_character knowledge: 76.5284093726%\n"
     ]
    },
    {
     "name": "stderr",
     "output_type": "stream",
     "text": [
      "\n"
     ]
    }
   ],
   "source": [
    "# last_character: set it True if you want to only predict last character of word and make use of this fact\n",
    "# guess: set it True if you want random character in case of no predictions\n",
    "# log: set it True if you want to see individual predictions and confidence score; not memory-friendly\n",
    "\n",
    "train_accuracy = evaluate_predictions(TRIE, X_test, y_test, last_character=False, guess=True, log=False)\n",
    "test_accuracy = evaluate_predictions(TRIE, X_test, y_test, last_character=False, guess=True, log=False)\n",
    "\n",
    "print(\"Train accuracy w/o last_character knowledge: {}%\".format(train_accuracy[0]*100))\n",
    "print(\"Test accuracy w/o last_character knowledge: {}%\".format( test_accuracy[0]*100))"
   ]
  },
  {
   "cell_type": "code",
   "execution_count": 10,
   "metadata": {},
   "outputs": [
    {
     "name": "stderr",
     "output_type": "stream",
     "text": [
      "100%|██████████| 665640/665640 [00:10<00:00, 65822.35it/s]\n",
      "100%|██████████| 221881/221881 [00:03<00:00, 66489.23it/s]"
     ]
    },
    {
     "name": "stdout",
     "output_type": "stream",
     "text": [
      "Train accuracy with last_character knowledge: 86.2174749114%\n",
      "Test accuracy with last_character knowledge: 86.3390736476%\n"
     ]
    },
    {
     "name": "stderr",
     "output_type": "stream",
     "text": [
      "\n"
     ]
    }
   ],
   "source": [
    "train_accuracy = evaluate_predictions(TRIE, X_train, y_train, last_character=True, guess=True, log=False)\n",
    "test_accuracy = evaluate_predictions(TRIE, X_test, y_test, last_character=True, guess=True, log=False)\n",
    "\n",
    "print(\"Train accuracy with last_character knowledge: {}%\".format(train_accuracy[0]*100))\n",
    "print(\"Test accuracy with last_character knowledge: {}%\".format( test_accuracy[0]*100))"
   ]
  },
  {
   "cell_type": "markdown",
   "metadata": {},
   "source": [
    "The above difference between last character knowledge shows that we can make intelligent predictions if we know the character we are going to predict is the last character of the word. In such case, we willingly look for word-end-marker and only include those letters for predictions, weeding out other irrelevant letters that wont end up forming a word.\n",
    "\n",
    "This is cool here but in general, we may not know if the letter we are going to predict is last or not, so keeping it false should be the way to go forward."
   ]
  },
  {
   "cell_type": "code",
   "execution_count": null,
   "metadata": {
    "collapsed": true
   },
   "outputs": [],
   "source": []
  },
  {
   "cell_type": "code",
   "execution_count": null,
   "metadata": {
    "collapsed": true
   },
   "outputs": [],
   "source": []
  },
  {
   "cell_type": "code",
   "execution_count": null,
   "metadata": {
    "collapsed": true
   },
   "outputs": [],
   "source": []
  }
 ],
 "metadata": {
  "kernelspec": {
   "display_name": "Python 2",
   "language": "python",
   "name": "python2"
  },
  "language_info": {
   "codemirror_mode": {
    "name": "ipython",
    "version": 2
   },
   "file_extension": ".py",
   "mimetype": "text/x-python",
   "name": "python",
   "nbconvert_exporter": "python",
   "pygments_lexer": "ipython2",
   "version": "2.7.14"
  }
 },
 "nbformat": 4,
 "nbformat_minor": 2
}
